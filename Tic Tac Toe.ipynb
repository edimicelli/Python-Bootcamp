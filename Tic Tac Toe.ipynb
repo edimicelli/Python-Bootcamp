{
 "cells": [
  {
   "cell_type": "code",
   "execution_count": 60,
   "metadata": {},
   "outputs": [
    {
     "name": "stdout",
     "output_type": "stream",
     "text": [
      "Welcome to Tic Tac Toe!\n",
      "Player 1: Do you want to be X or O?O\n",
      "Player 1 will be O\n"
     ]
    },
    {
     "data": {
      "text/plain": [
       "'X'"
      ]
     },
     "execution_count": 60,
     "metadata": {},
     "output_type": "execute_result"
    }
   ],
   "source": [
    "def select_xo():\n",
    "    print('Welcome to Tic Tac Toe!')\n",
    "    correct_input = False\n",
    "    while correct_input == False:\n",
    "        p1 = input('Player 1: Do you want to be X or O?').upper()\n",
    "        if p1 in ['X','x','O','o']:\n",
    "            correct_input = True\n",
    "            print(f'Player 1 will be {p1}')\n",
    "        else:\n",
    "            print('Invalid selection')\n",
    "    if p1 == 'X':\n",
    "        p2 = 'O'\n",
    "    else:\n",
    "        p2 = 'X'\n",
    "    return p1\n",
    "    return p2\n",
    "\n",
    "select_xo()\n",
    "p1"
   ]
  },
  {
   "cell_type": "code",
   "execution_count": 43,
   "metadata": {},
   "outputs": [],
   "source": [
    "def starting_function():\n",
    "    start_game = False\n",
    "    while start_game == False:\n",
    "        start_input = input('Are you ready to play? Enter Yes or No.')\n",
    "        if start_input in ['Yes','yes','No','no','Y','y','N','n']:\n",
    "            start_game = True"
   ]
  },
  {
   "cell_type": "code",
   "execution_count": 44,
   "metadata": {},
   "outputs": [],
   "source": []
  },
  {
   "cell_type": "code",
   "execution_count": 45,
   "metadata": {},
   "outputs": [],
   "source": [
    "def game_board():\n",
    "    board = f'   |   |   \\n {moves[6]} | {moves[7]} | {moves[8]} \\n   |   |   \\n-----------\\n   |   |   \\n {moves[3]} | {moves[4]} | {moves[5]} \\n   |   |   \\n-----------\\n   |   |   \\n {moves[0]} | {moves[1]} | {moves[2]} \\n   |   |   \\n'\n",
    "    print(board)"
   ]
  },
  {
   "cell_type": "code",
   "execution_count": 46,
   "metadata": {},
   "outputs": [
    {
     "name": "stdout",
     "output_type": "stream",
     "text": [
      "   |   |   \n",
      "   |   |   \n",
      "   |   |   \n",
      "-----------\n",
      "   |   |   \n",
      "   |   |   \n",
      "   |   |   \n",
      "-----------\n",
      "   |   |   \n",
      "   |   |   \n",
      "   |   |   \n",
      "\n"
     ]
    }
   ],
   "source": [
    "game_board()"
   ]
  },
  {
   "cell_type": "code",
   "execution_count": 105,
   "metadata": {},
   "outputs": [],
   "source": [
    "def welcome():\n",
    "    print('Welcome to Tic Tac Toe!')\n",
    "    correct_input = False\n",
    "    while correct_input == False:\n",
    "        p1 = input('Player 1: Do you want to be X or O?').upper()\n",
    "        if p1 in ['X','x','O','o']:\n",
    "            correct_input = True\n",
    "            print(f'Player 1 will be {p1}')\n",
    "        else:\n",
    "            print('Invalid selection')\n",
    "    return p1"
   ]
  },
  {
   "cell_type": "code",
   "execution_count": 106,
   "metadata": {},
   "outputs": [],
   "source": [
    "def start_game():\n",
    "    start_game = False\n",
    "    while start_game == False:\n",
    "        start_input = input('Are you ready to play? Enter Yes or No.')\n",
    "        if start_input in ['Yes','yes','Y','y']:\n",
    "            start_game = True\n",
    "            \n",
    "    moves = [' ',' ',' ',' ',' ',' ',' ',' ',' ']\n",
    "    return moves"
   ]
  },
  {
   "cell_type": "code",
   "execution_count": null,
   "metadata": {},
   "outputs": [],
   "source": []
  },
  {
   "cell_type": "code",
   "execution_count": 107,
   "metadata": {},
   "outputs": [],
   "source": [
    "def tic_tac_toe():\n",
    "    p1 = welcome()\n",
    "    if p1 == 'X':\n",
    "        p2 = 'O'\n",
    "    else:\n",
    "        p2 = 'X'\n",
    "        \n",
    "    moves = start_game()\n",
    "    \n",
    "    move_num = 1\n",
    "    game_over = False\n",
    "    player = 1\n",
    "    while move_num <= 9 and not game_over:\n",
    "        valid_input = False\n",
    "        while valid_input == False:\n",
    "            board = f'   |   |   \\n {moves[6]} | {moves[7]} | {moves[8]} \\n   |   |   \\n-----------\\n   |   |   \\n {moves[3]} | {moves[4]} | {moves[5]} \\n   |   |   \\n-----------\\n   |   |   \\n {moves[0]} | {moves[1]} | {moves[2]} \\n   |   |   \\n'\n",
    "            print(board)\n",
    "            move = int(input(f'Player {player}: Choose your next position (1-9)'))\n",
    "            if move in range(1,10) and moves[move-1] == ' ':\n",
    "                valid_input = True\n",
    "            else:\n",
    "                print('Invalid input')\n",
    "        if player == 1:\n",
    "            moves[move-1] = p1\n",
    "            player = 2\n",
    "        else:\n",
    "            moves[move-1] = p2\n",
    "            player = 1\n",
    "        board = f'   |   |   \\n {moves[6]} | {moves[7]} | {moves[8]} \\n   |   |   \\n-----------\\n   |   |   \\n {moves[3]} | {moves[4]} | {moves[5]} \\n   |   |   \\n-----------\\n   |   |   \\n {moves[0]} | {moves[1]} | {moves[2]} \\n   |   |   \\n'\n",
    "        if moves[0]+moves[1]+moves[2] == 'XXX' or moves[0]+moves[1]+moves[2] == 'OOO':\n",
    "            game_over = True\n",
    "        elif moves[3]+moves[4]+moves[5] == 'XXX' or moves[3]+moves[4]+moves[5] == 'OOO':\n",
    "            game_over = True\n",
    "        elif moves[6]+moves[7]+moves[8] == 'XXX' or moves[6]+moves[7]+moves[8] == 'OOO':\n",
    "            game_over = True\n",
    "        elif moves[0]+moves[3]+moves[6] == 'XXX' or moves[0]+moves[3]+moves[6] == 'OOO':\n",
    "            game_over = True\n",
    "        elif moves[1]+moves[4]+moves[7] == 'XXX' or moves[1]+moves[4]+moves[7] == 'OOO':\n",
    "            game_over = True\n",
    "        elif moves[2]+moves[5]+moves[8] == 'XXX' or moves[2]+moves[5]+moves[8] == 'OOO':\n",
    "            game_over = True\n",
    "        elif moves[0]+moves[4]+moves[8] == 'XXX' or moves[0]+moves[4]+moves[8] == 'OOO':\n",
    "            game_over = True\n",
    "        elif moves[2]+moves[4]+moves[6] == 'XXX' or moves[2]+moves[4]+moves[6] == 'OOO':\n",
    "            game_over = True\n",
    "        move_num += 1\n",
    "    if player == 1:\n",
    "        player = 2\n",
    "    else:\n",
    "        player = 1\n",
    "    print(board)\n",
    "    print(f'Player {player} has won the game!')"
   ]
  },
  {
   "cell_type": "code",
   "execution_count": 108,
   "metadata": {},
   "outputs": [
    {
     "name": "stdout",
     "output_type": "stream",
     "text": [
      "Welcome to Tic Tac Toe!\n",
      "Player 1: Do you want to be X or O?O\n",
      "Player 1 will be O\n",
      "Are you ready to play? Enter Yes or No.Y\n",
      "   |   |   \n",
      "   |   |   \n",
      "   |   |   \n",
      "-----------\n",
      "   |   |   \n",
      "   |   |   \n",
      "   |   |   \n",
      "-----------\n",
      "   |   |   \n",
      "   |   |   \n",
      "   |   |   \n",
      "\n"
     ]
    },
    {
     "ename": "KeyboardInterrupt",
     "evalue": "Interrupted by user",
     "output_type": "error",
     "traceback": [
      "\u001b[0;31m---------------------------------------------------------------------------\u001b[0m",
      "\u001b[0;31mKeyboardInterrupt\u001b[0m                         Traceback (most recent call last)",
      "\u001b[0;32m<ipython-input-108-d5912735471a>\u001b[0m in \u001b[0;36m<module>\u001b[0;34m\u001b[0m\n\u001b[0;32m----> 1\u001b[0;31m \u001b[0mtic_tac_toe\u001b[0m\u001b[0;34m(\u001b[0m\u001b[0;34m)\u001b[0m\u001b[0;34m\u001b[0m\u001b[0;34m\u001b[0m\u001b[0m\n\u001b[0m",
      "\u001b[0;32m<ipython-input-107-0c0ae288a10b>\u001b[0m in \u001b[0;36mtic_tac_toe\u001b[0;34m()\u001b[0m\n\u001b[1;32m     16\u001b[0m             \u001b[0mboard\u001b[0m \u001b[0;34m=\u001b[0m \u001b[0;34mf'   |   |   \\n {moves[6]} | {moves[7]} | {moves[8]} \\n   |   |   \\n-----------\\n   |   |   \\n {moves[3]} | {moves[4]} | {moves[5]} \\n   |   |   \\n-----------\\n   |   |   \\n {moves[0]} | {moves[1]} | {moves[2]} \\n   |   |   \\n'\u001b[0m\u001b[0;34m\u001b[0m\u001b[0;34m\u001b[0m\u001b[0m\n\u001b[1;32m     17\u001b[0m             \u001b[0mprint\u001b[0m\u001b[0;34m(\u001b[0m\u001b[0mboard\u001b[0m\u001b[0;34m)\u001b[0m\u001b[0;34m\u001b[0m\u001b[0;34m\u001b[0m\u001b[0m\n\u001b[0;32m---> 18\u001b[0;31m             \u001b[0mmove\u001b[0m \u001b[0;34m=\u001b[0m \u001b[0mint\u001b[0m\u001b[0;34m(\u001b[0m\u001b[0minput\u001b[0m\u001b[0;34m(\u001b[0m\u001b[0;34mf'Player {player}: Choose your next position (1-9)'\u001b[0m\u001b[0;34m)\u001b[0m\u001b[0;34m)\u001b[0m\u001b[0;34m\u001b[0m\u001b[0;34m\u001b[0m\u001b[0m\n\u001b[0m\u001b[1;32m     19\u001b[0m             \u001b[0;32mif\u001b[0m \u001b[0mmove\u001b[0m \u001b[0;32min\u001b[0m \u001b[0mrange\u001b[0m\u001b[0;34m(\u001b[0m\u001b[0;36m1\u001b[0m\u001b[0;34m,\u001b[0m\u001b[0;36m10\u001b[0m\u001b[0;34m)\u001b[0m \u001b[0;32mand\u001b[0m \u001b[0mmoves\u001b[0m\u001b[0;34m[\u001b[0m\u001b[0mmove\u001b[0m\u001b[0;34m-\u001b[0m\u001b[0;36m1\u001b[0m\u001b[0;34m]\u001b[0m \u001b[0;34m==\u001b[0m \u001b[0;34m' '\u001b[0m\u001b[0;34m:\u001b[0m\u001b[0;34m\u001b[0m\u001b[0;34m\u001b[0m\u001b[0m\n\u001b[1;32m     20\u001b[0m                 \u001b[0mvalid_input\u001b[0m \u001b[0;34m=\u001b[0m \u001b[0;32mTrue\u001b[0m\u001b[0;34m\u001b[0m\u001b[0;34m\u001b[0m\u001b[0m\n",
      "\u001b[0;32m~/opt/anaconda3/lib/python3.8/site-packages/ipykernel/kernelbase.py\u001b[0m in \u001b[0;36mraw_input\u001b[0;34m(self, prompt)\u001b[0m\n\u001b[1;32m    858\u001b[0m                 \u001b[0;34m\"raw_input was called, but this frontend does not support input requests.\"\u001b[0m\u001b[0;34m\u001b[0m\u001b[0;34m\u001b[0m\u001b[0m\n\u001b[1;32m    859\u001b[0m             )\n\u001b[0;32m--> 860\u001b[0;31m         return self._input_request(str(prompt),\n\u001b[0m\u001b[1;32m    861\u001b[0m             \u001b[0mself\u001b[0m\u001b[0;34m.\u001b[0m\u001b[0m_parent_ident\u001b[0m\u001b[0;34m,\u001b[0m\u001b[0;34m\u001b[0m\u001b[0;34m\u001b[0m\u001b[0m\n\u001b[1;32m    862\u001b[0m             \u001b[0mself\u001b[0m\u001b[0;34m.\u001b[0m\u001b[0m_parent_header\u001b[0m\u001b[0;34m,\u001b[0m\u001b[0;34m\u001b[0m\u001b[0;34m\u001b[0m\u001b[0m\n",
      "\u001b[0;32m~/opt/anaconda3/lib/python3.8/site-packages/ipykernel/kernelbase.py\u001b[0m in \u001b[0;36m_input_request\u001b[0;34m(self, prompt, ident, parent, password)\u001b[0m\n\u001b[1;32m    902\u001b[0m             \u001b[0;32mexcept\u001b[0m \u001b[0mKeyboardInterrupt\u001b[0m\u001b[0;34m:\u001b[0m\u001b[0;34m\u001b[0m\u001b[0;34m\u001b[0m\u001b[0m\n\u001b[1;32m    903\u001b[0m                 \u001b[0;31m# re-raise KeyboardInterrupt, to truncate traceback\u001b[0m\u001b[0;34m\u001b[0m\u001b[0;34m\u001b[0m\u001b[0;34m\u001b[0m\u001b[0m\n\u001b[0;32m--> 904\u001b[0;31m                 \u001b[0;32mraise\u001b[0m \u001b[0mKeyboardInterrupt\u001b[0m\u001b[0;34m(\u001b[0m\u001b[0;34m\"Interrupted by user\"\u001b[0m\u001b[0;34m)\u001b[0m \u001b[0;32mfrom\u001b[0m \u001b[0;32mNone\u001b[0m\u001b[0;34m\u001b[0m\u001b[0;34m\u001b[0m\u001b[0m\n\u001b[0m\u001b[1;32m    905\u001b[0m             \u001b[0;32mexcept\u001b[0m \u001b[0mException\u001b[0m \u001b[0;32mas\u001b[0m \u001b[0me\u001b[0m\u001b[0;34m:\u001b[0m\u001b[0;34m\u001b[0m\u001b[0;34m\u001b[0m\u001b[0m\n\u001b[1;32m    906\u001b[0m                 \u001b[0mself\u001b[0m\u001b[0;34m.\u001b[0m\u001b[0mlog\u001b[0m\u001b[0;34m.\u001b[0m\u001b[0mwarning\u001b[0m\u001b[0;34m(\u001b[0m\u001b[0;34m\"Invalid Message:\"\u001b[0m\u001b[0;34m,\u001b[0m \u001b[0mexc_info\u001b[0m\u001b[0;34m=\u001b[0m\u001b[0;32mTrue\u001b[0m\u001b[0;34m)\u001b[0m\u001b[0;34m\u001b[0m\u001b[0;34m\u001b[0m\u001b[0m\n",
      "\u001b[0;31mKeyboardInterrupt\u001b[0m: Interrupted by user"
     ]
    }
   ],
   "source": [
    "tic_tac_toe()"
   ]
  },
  {
   "cell_type": "code",
   "execution_count": 94,
   "metadata": {},
   "outputs": [
    {
     "data": {
      "text/plain": [
       "'XXX'"
      ]
     },
     "execution_count": 94,
     "metadata": {},
     "output_type": "execute_result"
    }
   ],
   "source": [
    "moves[2]+moves[5]+moves[8]"
   ]
  },
  {
   "cell_type": "code",
   "execution_count": 102,
   "metadata": {},
   "outputs": [],
   "source": [
    "x = 10"
   ]
  },
  {
   "cell_type": "code",
   "execution_count": 103,
   "metadata": {},
   "outputs": [
    {
     "data": {
      "text/plain": [
       "1000"
      ]
     },
     "execution_count": 103,
     "metadata": {},
     "output_type": "execute_result"
    }
   ],
   "source": [
    "x*100"
   ]
  },
  {
   "cell_type": "code",
   "execution_count": null,
   "metadata": {},
   "outputs": [],
   "source": [
    "def tic_tac_toe():\n",
    "    \n",
    "    print('Welcome to Tic Tac Toe!')\n",
    "    correct_input = False\n",
    "    while correct_input == False:\n",
    "        p1 = input('Player 1: Do you want to be X or O?').upper()\n",
    "        if p1 in ['X','x','O','o']:\n",
    "            correct_input = True\n",
    "            print(f'Player 1 will be {p1}')\n",
    "        else:\n",
    "            print('Invalid selection')\n",
    "    if p1 == 'X':\n",
    "        p2 = 'O'\n",
    "    else:\n",
    "        p2 = 'X'\n",
    "        \n",
    "    start_game = False\n",
    "    while start_game == False:\n",
    "        start_input = input('Are you ready to play? Enter Yes or No.')\n",
    "        if start_input in ['Yes','yes','Y','y']:\n",
    "            start_game = True\n",
    "            \n",
    "    moves = [' ',' ',' ',' ',' ',' ',' ',' ',' ']\n",
    "    \n",
    "    move_num = 1\n",
    "    game_over = False\n",
    "    player = 1\n",
    "    while move_num <= 9 and not game_over:\n",
    "        valid_input = False\n",
    "        while valid_input == False:\n",
    "            board = f'   |   |   \\n {moves[6]} | {moves[7]} | {moves[8]} \\n   |   |   \\n-----------\\n   |   |   \\n {moves[3]} | {moves[4]} | {moves[5]} \\n   |   |   \\n-----------\\n   |   |   \\n {moves[0]} | {moves[1]} | {moves[2]} \\n   |   |   \\n'\n",
    "            print(board)\n",
    "            move = int(input(f'Player {player}: Choose your next position (1-9)'))\n",
    "            if move in range(1,10) and moves[move-1] == ' ':\n",
    "                valid_input = True\n",
    "            else:\n",
    "                print('Invalid input')\n",
    "        if player == 1:\n",
    "            moves[move-1] = p1\n",
    "            player = 2\n",
    "        else:\n",
    "            moves[move-1] = p2\n",
    "            player = 1\n",
    "        board = f'   |   |   \\n {moves[6]} | {moves[7]} | {moves[8]} \\n   |   |   \\n-----------\\n   |   |   \\n {moves[3]} | {moves[4]} | {moves[5]} \\n   |   |   \\n-----------\\n   |   |   \\n {moves[0]} | {moves[1]} | {moves[2]} \\n   |   |   \\n'\n",
    "        if moves[0]+moves[1]+moves[2] == 'XXX' or moves[0]+moves[1]+moves[2] == 'OOO':\n",
    "            game_over = True\n",
    "        elif moves[3]+moves[4]+moves[5] == 'XXX' or moves[3]+moves[4]+moves[5] == 'OOO':\n",
    "            game_over = True\n",
    "        elif moves[6]+moves[7]+moves[8] == 'XXX' or moves[6]+moves[7]+moves[8] == 'OOO':\n",
    "            game_over = True\n",
    "        elif moves[0]+moves[3]+moves[6] == 'XXX' or moves[0]+moves[3]+moves[6] == 'OOO':\n",
    "            game_over = True\n",
    "        elif moves[1]+moves[4]+moves[7] == 'XXX' or moves[1]+moves[4]+moves[7] == 'OOO':\n",
    "            game_over = True\n",
    "        elif moves[2]+moves[5]+moves[8] == 'XXX' or moves[2]+moves[5]+moves[8] == 'OOO':\n",
    "            game_over = True\n",
    "        elif moves[0]+moves[4]+moves[8] == 'XXX' or moves[0]+moves[4]+moves[8] == 'OOO':\n",
    "            game_over = True\n",
    "        elif moves[2]+moves[4]+moves[6] == 'XXX' or moves[2]+moves[4]+moves[6] == 'OOO':\n",
    "            game_over = True\n",
    "        move_num += 1\n",
    "    if player == 1:\n",
    "        player = 2\n",
    "    else:\n",
    "        player = 1\n",
    "    print(board)\n",
    "    print(f'Player {player} has won the game!')"
   ]
  }
 ],
 "metadata": {
  "kernelspec": {
   "display_name": "Python 3",
   "language": "python",
   "name": "python3"
  },
  "language_info": {
   "codemirror_mode": {
    "name": "ipython",
    "version": 3
   },
   "file_extension": ".py",
   "mimetype": "text/x-python",
   "name": "python",
   "nbconvert_exporter": "python",
   "pygments_lexer": "ipython3",
   "version": "3.8.5"
  }
 },
 "nbformat": 4,
 "nbformat_minor": 4
}
